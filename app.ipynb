{
 "cells": [
  {
   "cell_type": "code",
   "execution_count": 2,
   "metadata": {},
   "outputs": [],
   "source": [
    "import numpy as np\n",
    "from flask import render_template, jsonify, Flask, request, send_file\n",
    "import os\n",
    "\n",
    "%run model.ipynb\n",
    "%run CV2Config.ipynb"
   ]
  },
  {
   "cell_type": "code",
   "execution_count": 3,
   "metadata": {},
   "outputs": [],
   "source": [
    "app = Flask(__name__)\n",
    "\n",
    "app.config['UPLOAD_FOLDER'] = os.getcwd()+'/raw_data'"
   ]
  },
  {
   "cell_type": "code",
   "execution_count": 4,
   "metadata": {},
   "outputs": [],
   "source": [
    "#for testing purpose\n",
    "@app.route(\"/api/trainmodel\", methods = ['POST', 'GET'])\n",
    "def home():\n",
    "    uid = request.form[\"uid\"]\n",
    "    project_name = request.form[\"pname\"]\n",
    "    list_videos = os.listdir(app.config['UPLOAD_FOLDER']+'/'+uid+'/'+project_name+'/')\n",
    "    paths = []\n",
    "    classes = []\n",
    "    for video in list_videos:\n",
    "        if(video.endswith(\".mp4\")):\n",
    "            paths.append(os.path.join(app.config['UPLOAD_FOLDER']+'/'+uid+'/'+project_name+'/',video))\n",
    "    \n",
    "    for path in paths:\n",
    "        base = os.path.basename(path)\n",
    "        classes.append(os.path.splitext(base)[0])\n",
    "    \n",
    "    print(classes)\n",
    "    cv2Config = CV2Config(paths,classes,uid,project_name)\n",
    "    cv2Config.processAll()\n",
    "    cv2Config.train_test_split()\n",
    "    model = Model(uid, project_name)\n",
    "    print(uid)\n",
    "    print(project_name)\n",
    "    return jsonify(\"OK\")\n",
    "#     return render_template(\"index.html\")      "
   ]
  },
  {
   "cell_type": "code",
   "execution_count": 5,
   "metadata": {},
   "outputs": [],
   "source": [
    "@app.route(\"/api/downloadFile_tflite\", methods = ['POST', 'GET'])\n",
    "def download_file():\n",
    "    uid = request.form[\"uid\"]\n",
    "    project_name = request.form[\"pname\"]\n",
    "    return send_file(\"./tfLiteModelFiles/\"+str(uid)+\"_\"+str(project_name)+\".tflite\")"
   ]
  },
  {
   "cell_type": "code",
   "execution_count": 6,
   "metadata": {},
   "outputs": [],
   "source": [
    "@app.route('/api/uploadFileToServer', methods = ['GET', 'POST'])\n",
    "def upload_file_to_server():\n",
    "    if(request.method == 'POST'):\n",
    "        uid = request.form[\"uid\"]\n",
    "        project_name = request.form[\"pname\"]\n",
    "        datas = request.files.getlist('data')\n",
    "        print(uid)\n",
    "        print(project_name)\n",
    "      \n",
    "        os.makedirs(app.config['UPLOAD_FOLDER']+'/'+str(uid)+'/'+project_name+\"/\", exist_ok=True)\n",
    "        for data in datas:\n",
    "            print(data.filename)\n",
    "            data.save(os.path.join(app.config['UPLOAD_FOLDER']+'/'+str(uid)+'/'+project_name+\"/\", data.filename))\n",
    "  \n",
    "    return \"OK\";"
   ]
  },
  {
   "cell_type": "code",
   "execution_count": 7,
   "metadata": {},
   "outputs": [],
   "source": [
    "@app.route('/', methods = ['GET', 'POST'])\n",
    "def index():\n",
    "    return render_template(\"index.html\")"
   ]
  },
  {
   "cell_type": "code",
   "execution_count": 8,
   "metadata": {},
   "outputs": [],
   "source": [
    "@app.route('/api/testmp', methods = ['GET', 'POST'])\n",
    "def temp():\n",
    "    uid = request.form[\"uid\"]\n",
    "    print(uid)\n",
    "    return \"ok\""
   ]
  },
  {
   "cell_type": "code",
   "execution_count": null,
   "metadata": {},
   "outputs": [
    {
     "name": "stdout",
     "output_type": "stream",
     "text": [
      " * Serving Flask app \"__main__\" (lazy loading)\n",
      " * Environment: production\n",
      "   WARNING: This is a development server. Do not use it in a production deployment.\n",
      "   Use a production WSGI server instead.\n",
      " * Debug mode: off\n"
     ]
    },
    {
     "name": "stderr",
     "output_type": "stream",
     "text": [
      " * Running on http://0.0.0.0:3000/ (Press CTRL+C to quit)\n"
     ]
    },
    {
     "name": "stdout",
     "output_type": "stream",
     "text": [
      "['Bottle', 'other']\n",
      "----------------Path-----------------\n",
      "----------------Comp-----------------\n",
      "----------------Path-----------------\n",
      "----------------Comp-----------------\n",
      "->2\n",
      "------CAPt-------[0]--------\n",
      "-----------Comp----------------------\n",
      "------CAPt-------[1]--------\n",
      "-----------Comp----------------------\n",
      "['118.png', '586.png', '725.png', '501.png', '292.png', '703.png', '636.png', '171.png', '166.png', '119.png', '0.png', '63.png', '738.png', '608.png', '282.png', '688.png', '418.png', '309.png', '559.png', '779.png', '360.png', '467.png', '299.png', '114.png', '503.png', '640.png', '75.png', '398.png', '551.png', '16.png', '263.png', '414.png', '289.png', '326.png', '220.png', '620.png', '683.png', '785.png', '72.png', '236.png', '483.png', '184.png', '77.png', '52.png', '68.png', '691.png', '183.png', '202.png', '330.png', '439.png', '74.png', '633.png', '167.png', '275.png', '783.png', '755.png', '44.png', '373.png', '706.png', '580.png', '2.png', '58.png', '193.png', '286.png', '516.png', '352.png', '403.png', '195.png', '3.png', '624.png', '594.png', '513.png', '643.png', '596.png', '609.png', '548.png', '678.png', '805.png', '541.png', '262.png', '81.png', '293.png', '786.png', '26.png', '125.png', '337.png', '345.png', '192.png', '70.png', '798.png', '374.png', '88.png', '222.png', '794.png', '151.png', '115.png', '234.png', '672.png', '720.png', '188.png', '543.png', '660.png', '619.png', '807.png', '348.png', '809.png', '82.png', '682.png', '461.png', '411.png', '769.png', '463.png', '105.png', '491.png', '452.png', '161.png', '386.png', '160.png', '200.png', '239.png', '424.png', '776.png', '4.png', '332.png', '113.png', '416.png', '280.png', '346.png', '448.png', '512.png', '308.png', '729.png', '728.png', '651.png', '273.png', '71.png', '611.png', '517.png', '445.png', '21.png', '339.png', '242.png', '552.png', '819.png', '185.png', '759.png', '37.png', '744.png', '45.png', '721.png', '536.png', '508.png', '667.png', '433.png', '155.png', '274.png', '364.png', '390.png', '598.png', '175.png', '413.png', '621.png', '257.png', '61.png', '644.png', '84.png', '784.png', '367.png', '600.png', '304.png', '321.png', '757.png', '22.png', '590.png', '141.png', '217.png', '350.png', '15.png', '278.png', '31.png', '606.png', '137.png', '719.png', '456.png', '613.png', '493.png', '305.png', '707.png', '34.png', '743.png', '237.png', '554.png', '477.png', '142.png', '478.png', '444.png', '780.png', '812.png', '317.png', '211.png', '521.png', '777.png', '664.png', '391.png', '310.png', '73.png', '732.png', '172.png', '392.png', '653.png', '182.png', '540.png', '35.png', '511.png', '334.png', '697.png', '638.png', '470.png', '382.png', '279.png', '415.png', '405.png', '181.png', '480.png', '93.png', '95.png', '165.png', '768.png', '563.png', '595.png', '591.png', '9.png', '212.png', '148.png', '679.png', '509.png', '362.png', '303.png', '219.png', '818.png', '704.png', '124.png', '322.png', '377.png', '813.png', '481.png', '537.png', '12.png', '138.png', '465.png', '354.png', '656.png', '427.png', '343.png', '476.png', '131.png', '792.png', '446.png', '527.png', '340.png', '573.png', '475.png', '441.png', '675.png', '450.png', '801.png', '647.png', '284.png', '731.png', '287.png', '14.png', '130.png', '677.png', '152.png', '560.png', '336.png', '254.png', '506.png', '96.png', '630.png', '162.png', '163.png', '59.png', '121.png', '514.png', '462.png', '593.png', '455.png', '549.png', '329.png', '542.png', '482.png', '296.png', '751.png', '190.png', '708.png', '101.png', '290.png', '178.png', '135.png', '782.png', '67.png', '102.png', '504.png', '320.png', '147.png', '616.png', '770.png', '637.png', '408.png', '56.png', '717.png', '89.png', '589.png', '6.png', '681.png', '676.png', '10.png', '47.png', '126.png', '312.png', '639.png', '230.png', '705.png', '117.png', '154.png', '623.png', '739.png', '319.png', '207.png', '421.png', '790.png', '796.png', '500.png', '741.png', '277.png', '209.png', '726.png', '815.png', '447.png', '570.png', '632.png', '765.png', '371.png', '265.png', '366.png', '789.png', '581.png', '690.png', '256.png', '522.png', '505.png', '213.png', '519.png', '558.png', '673.png', '437.png', '387.png', '781.png', '169.png', '712.png', '693.png', '800.png', '86.png', '524.png', '696.png', '515.png', '565.png', '136.png', '646.png', '602.png', '808.png', '400.png', '407.png', '28.png', '648.png', '555.png', '27.png', '546.png', '576.png', '315.png', '665.png', '799.png', '80.png', '370.png', '85.png', '492.png', '771.png', '612.png', '198.png', '814.png', '529.png', '402.png', '281.png', '385.png', '51.png', '297.png', '225.png', '469.png', '618.png', '353.png', '718.png', '100.png', '440.png', '811.png', '120.png', '700.png', '497.png', '307.png', '384.png', '468.png', '233.png', '694.png', '365.png', '762.png', '7.png', '32.png', '149.png', '588.png', '474.png', '358.png', '33.png', '787.png', '642.png', '140.png', '229.png', '83.png', '203.png', '661.png', '671.png', '395.png', '150.png', '562.png', '742.png', '43.png', '488.png', '127.png', '473.png', '730.png', '99.png', '388.png', '253.png', '123.png', '526.png', '29.png', '357.png', '180.png', '24.png', '264.png', '216.png', '283.png', '754.png', '106.png', '774.png', '112.png', '128.png', '397.png', '90.png', '97.png', '494.png', '23.png', '246.png', '420.png', '248.png', '231.png', '750.png', '218.png', '587.png', '335.png', '11.png', '76.png', '523.png', '342.png', '507.png', '306.png', '584.png', '208.png', '5.png', '205.png', '316.png', '766.png', '635.png', '431.png', '797.png', '159.png', '294.png', '686.png', '245.png', '695.png', '459.png', '564.png', '214.png', '301.png', '276.png', '17.png', '347.png', '788.png', '177.png', '685.png', '174.png', '41.png', '574.png', '272.png', '532.png', '410.png', '577.png', '260.png', '376.png', '571.png', '658.png', '716.png', '428.png', '351.png', '659.png', '18.png', '698.png', '156.png', '499.png', '259.png', '617.png', '457.png', '196.png', '13.png', '302.png', '266.png', '331.png', '627.png', '631.png', '442.png', '333.png', '650.png', '674.png', '764.png', '268.png', '775.png', '179.png', '50.png', '486.png', '544.png', '736.png', '545.png', '78.png', '689.png', '247.png', '122.png', '655.png', '615.png', '311.png', '432.png', '687.png', '53.png', '349.png', '489.png', '534.png', '215.png', '48.png', '520.png', '604.png', '191.png', '760.png', '210.png', '668.png', '145.png', '372.png', '684.png', '344.png', '228.png', '224.png', '134.png', '327.png', '314.png', '430.png', '453.png', '435.png', '133.png', '153.png', '745.png', '324.png', '579.png', '528.png', '597.png', '806.png', '379.png', '232.png', '711.png', '680.png', '626.png', '566.png', '605.png', '383.png', '46.png', '670.png', '495.png', '645.png', '399.png', '389.png', '116.png', '472.png', '55.png', '394.png', '20.png', '810.png', '614.png', '241.png', '535.png', '634.png', '518.png', '404.png', '338.png', '756.png', '490.png', '533.png', '502.png', '701.png', '592.png', '553.png', '625.png', '498.png', '484.png', '607.png', '572.png', '464.png', '429.png', '168.png', '426.png', '375.png', '568.png', '235.png', '715.png', '763.png', '111.png', '104.png', '747.png', '158.png', '206.png', '628.png', '1.png', '146.png', '530.png', '57.png', '510.png', '64.png', '25.png', '802.png', '724.png', '740.png', '727.png', '575.png', '733.png', '622.png', '143.png', '419.png', '425.png', '269.png', '417.png', '722.png', '199.png', '449.png', '79.png', '369.png', '702.png', '87.png', '49.png', '227.png', '107.png', '583.png', '610.png', '295.png', '485.png', '186.png', '550.png', '60.png', '662.png', '471.png', '381.png', '69.png', '187.png', '496.png', '479.png', '578.png', '238.png', '454.png', '313.png', '629.png', '325.png', '654.png', '443.png', '539.png', '758.png', '466.png', '547.png', '531.png', '291.png', '561.png', '109.png', '380.png', '288.png', '567.png', '54.png', '804.png', '458.png', '226.png', '300.png', '271.png', '412.png', '221.png', '243.png', '94.png', '649.png', '585.png', '201.png', '669.png', '194.png', '791.png', '189.png', '438.png', '773.png', '65.png', '749.png', '132.png', '285.png', '401.png', '556.png', '557.png', '599.png', '249.png', '250.png', '767.png', '434.png', '98.png', '244.png', '603.png', '746.png', '816.png', '795.png', '328.png', '423.png', '601.png', '38.png', '663.png', '359.png', '487.png', '393.png', '525.png', '144.png', '778.png', '164.png', '258.png', '709.png', '666.png', '8.png', '356.png', '734.png', '323.png', '197.png', '436.png', '735.png', '641.png', '772.png', '30.png', '451.png', '368.png', '19.png', '103.png', '409.png', '341.png', '692.png', '803.png', '176.png', '406.png', '91.png', '817.png', '139.png', '173.png', '652.png', '42.png', '657.png', '569.png', '36.png', '761.png', '255.png', '699.png', '713.png', '748.png', '714.png', '40.png', '261.png', '538.png', '460.png', '355.png', '170.png', '363.png', '92.png', '267.png', '318.png', '270.png', '396.png', '66.png', '710.png', '378.png', '108.png', '793.png', '361.png', '110.png', '752.png', '39.png', '422.png', '129.png', '223.png', '723.png', '204.png', '62.png', '298.png', '251.png', '753.png', '582.png', '157.png', '252.png', '737.png', '240.png']\n",
      "164\n",
      "Passing\n",
      "Passing\n",
      "Passing\n",
      "Passing\n",
      "Passing\n",
      "Passing\n",
      "Passing\n",
      "Passing\n",
      "Passing\n",
      "Passing\n",
      "Passing\n",
      "Passing\n",
      "Passing\n",
      "Passing\n",
      "Passing\n",
      "Passing\n",
      "['118.png', '586.png', '501.png', '292.png', '636.png', '171.png', '166.png', '119.png', '0.png', '63.png', '608.png', '282.png', '688.png', '418.png', '309.png', '559.png', '360.png', '467.png', '299.png', '114.png', '503.png', '640.png', '75.png', '398.png', '551.png', '16.png', '263.png', '414.png', '289.png', '326.png', '220.png', '620.png', '683.png', '72.png', '236.png', '483.png', '184.png', '77.png', '52.png', '68.png', '691.png', '183.png', '202.png', '330.png', '439.png', '74.png', '633.png', '167.png', '275.png', '44.png', '373.png', '580.png', '2.png', '58.png', '193.png', '286.png', '516.png', '352.png', '403.png', '195.png', '3.png', '624.png', '594.png', '513.png', '643.png', '596.png', '609.png', '548.png', '678.png', '541.png', '262.png', '81.png', '293.png', '26.png', '125.png', '337.png', '345.png', '192.png', '70.png', '374.png', '88.png', '222.png', '151.png', '115.png', '234.png', '672.png', '188.png', '543.png', '660.png', '619.png', '348.png', '82.png', '682.png', '461.png', '411.png', '463.png', '105.png', '491.png', '452.png', '161.png', '386.png', '160.png', '200.png', '239.png', '424.png', '4.png', '332.png', '113.png', '416.png', '280.png', '346.png', '448.png', '512.png', '308.png', '651.png', '273.png', '71.png', '611.png', '517.png', '445.png', '21.png', '339.png', '242.png', '552.png', '185.png', '37.png', '45.png', '536.png', '508.png', '667.png', '433.png', '155.png', '274.png', '364.png', '390.png', '598.png', '175.png', '413.png', '621.png', '257.png', '61.png', '644.png', '84.png', '367.png', '600.png', '304.png', '321.png', '22.png', '590.png', '141.png', '217.png', '350.png', '15.png', '278.png', '31.png', '606.png', '137.png', '456.png', '613.png', '493.png', '305.png', '34.png', '237.png', '554.png', '477.png', '142.png', '478.png', '444.png', '317.png', '211.png', '521.png', '664.png', '391.png', '310.png', '73.png', '172.png', '392.png', '653.png', '182.png', '540.png', '35.png', '511.png', '334.png', '638.png', '470.png', '382.png', '279.png', '415.png', '405.png', '181.png', '480.png', '93.png', '95.png', '165.png', '563.png', '595.png', '591.png', '9.png', '212.png', '148.png', '679.png', '509.png', '362.png', '303.png', '219.png', '124.png', '322.png', '377.png', '481.png', '537.png', '12.png', '138.png', '465.png', '354.png', '656.png', '427.png', '343.png', '476.png', '131.png', '446.png', '527.png', '340.png', '573.png', '475.png', '441.png', '675.png', '450.png', '647.png', '284.png', '287.png', '14.png', '130.png', '677.png', '152.png', '560.png', '336.png', '254.png', '506.png', '96.png', '630.png', '162.png', '163.png', '59.png', '121.png', '514.png', '462.png', '593.png', '455.png', '549.png', '329.png', '542.png', '482.png', '296.png', '190.png', '101.png', '290.png', '178.png', '135.png', '67.png', '102.png', '504.png', '320.png', '147.png', '616.png', '637.png', '408.png', '56.png', '89.png', '589.png', '6.png', '681.png', '676.png', '10.png', '47.png', '126.png', '312.png', '639.png', '230.png', '117.png', '154.png', '623.png', '319.png', '207.png', '421.png', '500.png', '277.png', '209.png', '447.png', '570.png', '632.png', '371.png', '265.png', '366.png', '581.png', '690.png', '256.png', '522.png', '505.png', '213.png', '519.png', '558.png', '673.png', '437.png', '387.png', '169.png', '693.png', '86.png', '524.png', '515.png', '565.png', '136.png', '646.png', '602.png', '400.png', '407.png', '28.png', '648.png', '555.png', '27.png', '546.png', '576.png', '315.png', '665.png', '80.png', '370.png', '85.png', '492.png', '612.png', '198.png', '529.png', '402.png', '281.png', '385.png', '51.png', '297.png', '225.png', '469.png', '618.png', '353.png', '100.png', '440.png', '120.png', '497.png', '307.png', '384.png', '468.png', '233.png', '694.png', '365.png', '7.png', '32.png', '149.png', '588.png', '474.png', '358.png', '33.png', '642.png', '140.png', '229.png', '83.png', '203.png', '661.png', '671.png', '395.png', '150.png', '562.png', '43.png', '488.png', '127.png', '473.png', '99.png', '388.png', '253.png', '123.png', '526.png', '29.png', '357.png', '180.png', '24.png', '264.png', '216.png', '283.png', '106.png', '112.png', '128.png', '397.png', '90.png', '97.png', '494.png', '23.png', '246.png', '420.png', '248.png', '231.png', '218.png', '587.png', '335.png', '11.png', '76.png', '523.png', '342.png', '507.png', '306.png', '584.png', '208.png', '5.png', '205.png', '316.png', '635.png', '431.png', '159.png', '294.png', '686.png', '245.png', '459.png', '564.png', '214.png', '301.png', '276.png', '17.png', '347.png', '177.png', '685.png', '174.png', '41.png', '574.png', '272.png', '532.png', '410.png', '577.png', '260.png', '376.png', '571.png', '658.png', '428.png', '351.png', '659.png', '18.png', '156.png', '499.png', '259.png', '617.png', '457.png', '196.png', '13.png', '302.png', '266.png', '331.png', '627.png', '631.png', '442.png', '333.png', '650.png', '674.png', '268.png', '179.png', '50.png', '486.png', '544.png', '545.png', '78.png', '689.png', '247.png', '122.png', '655.png', '615.png', '311.png', '432.png', '687.png', '53.png', '349.png', '489.png', '534.png', '215.png', '48.png', '520.png', '604.png', '191.png', '210.png', '668.png', '145.png', '372.png', '684.png', '344.png', '228.png', '224.png', '134.png', '327.png', '314.png', '430.png', '453.png', '435.png', '133.png', '153.png', '324.png', '579.png', '528.png', '597.png', '379.png', '232.png', '680.png', '626.png', '566.png', '605.png', '383.png', '46.png', '670.png', '495.png', '645.png', '399.png', '389.png', '116.png', '472.png', '55.png', '394.png', '20.png', '614.png', '241.png', '535.png', '634.png', '518.png', '404.png', '338.png', '490.png', '533.png', '502.png', '592.png', '553.png', '625.png', '498.png', '484.png', '607.png', '572.png', '464.png', '429.png', '168.png', '426.png', '375.png', '568.png', '235.png', '111.png', '104.png', '158.png', '206.png', '628.png', '1.png', '146.png', '530.png', '57.png', '510.png', '64.png', '25.png', '575.png', '622.png', '143.png', '419.png', '425.png', '269.png', '417.png', '199.png', '449.png', '79.png', '369.png', '87.png', '49.png', '227.png', '107.png', '583.png', '610.png', '295.png', '485.png', '186.png', '550.png', '60.png', '662.png', '471.png', '381.png', '69.png', '187.png', '496.png', '479.png', '578.png', '238.png', '454.png', '313.png', '629.png', '325.png', '654.png', '443.png', '539.png', '466.png', '547.png', '531.png', '291.png', '561.png', '109.png', '380.png', '288.png', '567.png', '54.png', '458.png', '226.png', '300.png', '271.png', '412.png', '221.png', '243.png', '94.png', '649.png', '585.png', '201.png', '669.png', '194.png', '189.png', '438.png', '65.png', '132.png', '285.png', '401.png', '556.png', '557.png', '599.png', '249.png', '250.png', '434.png', '98.png', '244.png', '603.png', '328.png', '423.png', '601.png', '38.png', '663.png', '359.png', '487.png', '393.png', '525.png', '144.png', '164.png', '258.png', '666.png', '8.png', '356.png', '323.png', '197.png', '436.png', '641.png', '30.png', '451.png', '368.png', '19.png', '103.png', '409.png', '341.png', '692.png', '176.png', '406.png', '91.png', '139.png', '173.png', '652.png', '42.png', '657.png', '569.png', '36.png', '255.png', '40.png', '261.png', '538.png', '460.png', '355.png', '170.png', '363.png', '92.png', '267.png', '318.png', '270.png', '396.png', '66.png', '378.png', '108.png', '361.png', '110.png', '39.png', '422.png', '129.png', '223.png', '204.png', '62.png', '298.png', '251.png', '582.png', '157.png', '252.png', '240.png']\n",
      "139\n",
      "Passing\n",
      "Passing\n",
      "Passing\n",
      "Passing\n",
      "Passing\n",
      "Passing\n",
      "Passing\n",
      "Passing\n",
      "Passing\n",
      "Passing\n",
      "Passing\n",
      "---------------------------------------OK-----------------------------------------------\n",
      "WARNING:tensorflow:From /home/lenovo/.local/lib/python3.6/site-packages/tensorflow/python/ops/init_ops.py:1251: calling VarianceScaling.__init__ (from tensorflow.python.ops.init_ops) with dtype is deprecated and will be removed in a future version.\n",
      "Instructions for updating:\n",
      "Call initializer instance with the dtype argument instead of passing it to the constructor\n",
      "Found 1229 images belonging to 2 classes.\n",
      "Found 261 images belonging to 2 classes.\n",
      "Epoch 1/25\n",
      "8/8 [==============================] - 6s 740ms/step - loss: 1.2043 - acc: 0.4917 - val_loss: 0.7453 - val_acc: 0.5000\n",
      "Epoch 2/25\n",
      "8/8 [==============================] - 4s 533ms/step - loss: 0.7026 - acc: 0.4790 - val_loss: 0.6767 - val_acc: 0.5000\n",
      "Epoch 3/25\n",
      "8/8 [==============================] - 4s 545ms/step - loss: 0.6847 - acc: 0.5583 - val_loss: 0.7030 - val_acc: 0.5000\n",
      "Epoch 4/25\n",
      "8/8 [==============================] - 4s 558ms/step - loss: 0.6763 - acc: 0.6000 - val_loss: 0.7289 - val_acc: 0.5000\n",
      "Epoch 5/25\n",
      "8/8 [==============================] - 5s 571ms/step - loss: 0.9069 - acc: 0.5500 - val_loss: 0.6670 - val_acc: 0.7083\n",
      "Epoch 6/25\n",
      "8/8 [==============================] - 4s 549ms/step - loss: 0.6526 - acc: 0.7250 - val_loss: 0.6142 - val_acc: 0.7083\n",
      "Epoch 7/25\n",
      "8/8 [==============================] - 4s 562ms/step - loss: 0.5274 - acc: 0.8167 - val_loss: 0.8758 - val_acc: 0.5000\n",
      "Epoch 8/25\n",
      "8/8 [==============================] - 4s 535ms/step - loss: 0.3886 - acc: 0.8500 - val_loss: 0.3498 - val_acc: 0.9583\n",
      "Epoch 9/25\n",
      "8/8 [==============================] - 4s 532ms/step - loss: 0.2618 - acc: 0.9083 - val_loss: 0.1753 - val_acc: 0.9583\n",
      "Epoch 10/25\n",
      "8/8 [==============================] - 4s 538ms/step - loss: 0.9664 - acc: 0.7250 - val_loss: 0.5233 - val_acc: 0.7083\n",
      "Epoch 11/25\n",
      "8/8 [==============================] - 4s 554ms/step - loss: 0.4946 - acc: 0.7583 - val_loss: 0.3218 - val_acc: 1.0000\n",
      "Epoch 12/25\n",
      "8/8 [==============================] - 5s 570ms/step - loss: 0.3236 - acc: 0.8833 - val_loss: 0.2534 - val_acc: 1.0000\n",
      "Epoch 13/25\n",
      "8/8 [==============================] - 4s 523ms/step - loss: 0.1680 - acc: 0.9250 - val_loss: 0.1353 - val_acc: 0.9583\n",
      "Epoch 14/25\n",
      "8/8 [==============================] - 4s 552ms/step - loss: 0.4306 - acc: 0.8833 - val_loss: 0.2132 - val_acc: 0.9167\n",
      "Epoch 15/25\n",
      "8/8 [==============================] - 4s 555ms/step - loss: 0.2246 - acc: 0.9417 - val_loss: 0.1451 - val_acc: 1.0000\n",
      "Epoch 16/25\n",
      "8/8 [==============================] - 4s 537ms/step - loss: 0.0815 - acc: 0.9667 - val_loss: 0.1430 - val_acc: 0.9583\n",
      "Epoch 17/25\n",
      "8/8 [==============================] - 5s 598ms/step - loss: 0.0541 - acc: 0.9833 - val_loss: 0.0478 - val_acc: 1.0000\n",
      "Epoch 18/25\n",
      "8/8 [==============================] - 4s 557ms/step - loss: 0.0096 - acc: 1.0000 - val_loss: 0.0076 - val_acc: 1.0000\n",
      "Epoch 19/25\n",
      "8/8 [==============================] - 11s 1s/step - loss: 0.1354 - acc: 0.9500 - val_loss: 0.2195 - val_acc: 0.8750\n",
      "Epoch 20/25\n",
      "8/8 [==============================] - 11s 1s/step - loss: 0.1264 - acc: 0.9417 - val_loss: 0.2108 - val_acc: 0.8750\n",
      "Epoch 21/25\n",
      "8/8 [==============================] - 9s 1s/step - loss: 0.1345 - acc: 0.9496 - val_loss: 0.0162 - val_acc: 1.0000\n",
      "Epoch 22/25\n",
      "8/8 [==============================] - 10s 1s/step - loss: 0.0171 - acc: 0.9917 - val_loss: 0.0020 - val_acc: 1.0000\n",
      "Epoch 23/25\n",
      "8/8 [==============================] - 8s 1s/step - loss: 0.0493 - acc: 0.9750 - val_loss: 3.0215 - val_acc: 0.7917\n",
      "Epoch 24/25\n",
      "8/8 [==============================] - 6s 802ms/step - loss: 0.5032 - acc: 0.9583 - val_loss: 0.2898 - val_acc: 0.8750\n",
      "Epoch 25/25\n",
      "8/8 [==============================] - 5s 621ms/step - loss: 0.9785 - acc: 0.8917 - val_loss: 0.1492 - val_acc: 0.9583\n",
      "WARNING:tensorflow:From <ipython-input-2-f0c0c56d8ef5>:50: TocoConverter.from_keras_model_file (from tensorflow.lite.python.lite) is deprecated and will be removed in a future version.\n",
      "Instructions for updating:\n",
      "Use `lite.TFLiteConverter.from_keras_model_file` instead.\n",
      "WARNING:tensorflow:From /home/lenovo/.local/lib/python3.6/site-packages/tensorflow/python/ops/init_ops.py:97: calling GlorotUniform.__init__ (from tensorflow.python.ops.init_ops) with dtype is deprecated and will be removed in a future version.\n",
      "Instructions for updating:\n",
      "Call initializer instance with the dtype argument instead of passing it to the constructor\n",
      "WARNING:tensorflow:From /home/lenovo/.local/lib/python3.6/site-packages/tensorflow/python/ops/init_ops.py:97: calling Zeros.__init__ (from tensorflow.python.ops.init_ops) with dtype is deprecated and will be removed in a future version.\n",
      "Instructions for updating:\n",
      "Call initializer instance with the dtype argument instead of passing it to the constructor\n",
      "WARNING:tensorflow:From /home/lenovo/.local/lib/python3.6/site-packages/tensorflow/lite/python/util.py:238: convert_variables_to_constants (from tensorflow.python.framework.graph_util_impl) is deprecated and will be removed in a future version.\n",
      "Instructions for updating:\n",
      "Use `tf.compat.v1.graph_util.convert_variables_to_constants`\n",
      "WARNING:tensorflow:From /home/lenovo/.local/lib/python3.6/site-packages/tensorflow/python/framework/graph_util_impl.py:270: extract_sub_graph (from tensorflow.python.framework.graph_util_impl) is deprecated and will be removed in a future version.\n",
      "Instructions for updating:\n",
      "Use `tf.compat.v1.graph_util.extract_sub_graph`\n",
      "INFO:tensorflow:Froze 14 variables.\n",
      "INFO:tensorflow:Converted 14 variables to const ops.\n"
     ]
    },
    {
     "name": "stderr",
     "output_type": "stream",
     "text": [
      "127.0.0.1 - - [12/Dec/2019 10:43:49] \"\u001b[37mPOST /api/trainmodel HTTP/1.1\u001b[0m\" 200 -\n"
     ]
    },
    {
     "name": "stdout",
     "output_type": "stream",
     "text": [
      "1\n",
      "test\n"
     ]
    }
   ],
   "source": [
    "if __name__ == '__main__':\n",
    "    app.run(host='0.0.0.0',port=3000)"
   ]
  },
  {
   "cell_type": "code",
   "execution_count": null,
   "metadata": {},
   "outputs": [],
   "source": []
  },
  {
   "cell_type": "code",
   "execution_count": null,
   "metadata": {},
   "outputs": [],
   "source": []
  }
 ],
 "metadata": {
  "kernelspec": {
   "display_name": "Python 3",
   "language": "python",
   "name": "python3"
  },
  "language_info": {
   "codemirror_mode": {
    "name": "ipython",
    "version": 3
   },
   "file_extension": ".py",
   "mimetype": "text/x-python",
   "name": "python",
   "nbconvert_exporter": "python",
   "pygments_lexer": "ipython3",
   "version": "3.6.9"
  }
 },
 "nbformat": 4,
 "nbformat_minor": 4
}
