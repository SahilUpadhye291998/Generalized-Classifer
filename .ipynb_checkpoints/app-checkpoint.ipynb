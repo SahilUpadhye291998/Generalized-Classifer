{
 "cells": [
  {
   "cell_type": "code",
   "execution_count": 4,
   "metadata": {},
   "outputs": [],
   "source": [
    "import numpy as np\n",
    "from flask import render_template, jsonify, Flask, request, send_file\n",
    "import os\n",
    "\n",
    "%run model.ipynb\n",
    "%run CV2Config.ipynb"
   ]
  },
  {
   "cell_type": "code",
   "execution_count": 5,
   "metadata": {},
   "outputs": [],
   "source": [
    "app = Flask(__name__)\n",
    "\n",
    "app.config['UPLOAD_FOLDER'] = os.getcwd()+'/raw_data'"
   ]
  },
  {
   "cell_type": "code",
   "execution_count": 6,
   "metadata": {},
   "outputs": [],
   "source": [
    "#for testing purpose\n",
    "@app.route(\"/api/trainmodel\", methods = ['POST', 'GET'])\n",
    "def home():\n",
    "    uid = request.form[\"id\"]\n",
    "    project_name = request.form[\"pname\"]\n",
    "    list_videos = os.listdir(app.config['UPLOAD_FOLDER']+'/'+uid+'/'+project_name+'/')\n",
    "    paths = []\n",
    "    classes = []\n",
    "    for video in list_videos:\n",
    "        if(video.endswith(\".mp4\")):\n",
    "            paths.append(os.path.join(app.config['UPLOAD_FOLDER']+'/'+uid+'/'+project_name+'/',video))\n",
    "    \n",
    "    for path in paths:\n",
    "        base = os.path.basename(path)\n",
    "        classes.append(os.path.splitext(base)[0])\n",
    "    \n",
    "    print(classes)\n",
    "    cv2Config = CV2Config(paths,classes,uid,project_name)\n",
    "    cv2Config.processAll()\n",
    "    cv2Config.train_test_split()\n",
    "    model = Model(uid, project_name)\n",
    "    return \"OK\"\n",
    "#     return render_template(\"index.html\")      "
   ]
  },
  {
   "cell_type": "code",
   "execution_count": 7,
   "metadata": {},
   "outputs": [],
   "source": [
    "@app.route(\"/api/downloadFile_tflite\", methods = ['POST', 'GET'])\n",
    "def download_file():\n",
    "    uid = request.form[\"uid\"]\n",
    "    project_name = request.form[\"project_name\"]\n",
    "    return send_file(\"./tfLiteModelFiles/\"+str(uid)+\"_\"+str(project_name)+\".tflite\")"
   ]
  },
  {
   "cell_type": "code",
   "execution_count": 8,
   "metadata": {},
   "outputs": [],
   "source": [
    "@app.route('/uploadFileToServer', methods = ['GET', 'POST'])\n",
    "def upload_file_to_server():\n",
    "    if(request.method == 'POST'):\n",
    "        uid = request.form[\"id\"]\n",
    "        project_name = request.form[\"pname\"]\n",
    "        names = request.form['name']\n",
    "        datas = request.files.getlist('data')\n",
    "        os.makedirs(app.config['UPLOAD_FOLDER']+'/'+str(uid)+'/'+project_name+\"/\", exist_ok=True)\n",
    "        for data in datas:\n",
    "            data.save(os.path.join(app.config['UPLOAD_FOLDER']+'/'+str(uid)+'/'+project_name+\"/\", data.filename))      \n",
    "    return \"OK\";"
   ]
  },
  {
   "cell_type": "code",
   "execution_count": null,
   "metadata": {},
   "outputs": [
    {
     "name": "stdout",
     "output_type": "stream",
     "text": [
      " * Serving Flask app \"__main__\" (lazy loading)\n",
      " * Environment: production\n",
      "   WARNING: This is a development server. Do not use it in a production deployment.\n",
      "   Use a production WSGI server instead.\n",
      " * Debug mode: off\n"
     ]
    },
    {
     "name": "stderr",
     "output_type": "stream",
     "text": [
      " * Running on http://127.0.0.1:3000/ (Press CTRL+C to quit)\n",
      "[2019-11-07 16:23:12,321] ERROR in app: Exception on /api/downloadFile_tflite [GET]\n",
      "Traceback (most recent call last):\n",
      "  File \"/home/lenovo/.local/lib/python3.6/site-packages/flask/app.py\", line 2446, in wsgi_app\n",
      "    response = self.full_dispatch_request()\n",
      "  File \"/home/lenovo/.local/lib/python3.6/site-packages/flask/app.py\", line 1951, in full_dispatch_request\n",
      "    rv = self.handle_user_exception(e)\n",
      "  File \"/home/lenovo/.local/lib/python3.6/site-packages/flask/app.py\", line 1820, in handle_user_exception\n",
      "    reraise(exc_type, exc_value, tb)\n",
      "  File \"/home/lenovo/.local/lib/python3.6/site-packages/flask/_compat.py\", line 39, in reraise\n",
      "    raise value\n",
      "  File \"/home/lenovo/.local/lib/python3.6/site-packages/flask/app.py\", line 1949, in full_dispatch_request\n",
      "    rv = self.dispatch_request()\n",
      "  File \"/home/lenovo/.local/lib/python3.6/site-packages/flask/app.py\", line 1935, in dispatch_request\n",
      "    return self.view_functions[rule.endpoint](**req.view_args)\n",
      "  File \"<ipython-input-7-96914de9efd1>\", line 5, in download_file\n",
      "    return send_file(\"./tfLiteModelFiles/\"+uid+\"_\"+projectName+\".tflite\")\n",
      "NameError: name 'projectName' is not defined\n",
      "127.0.0.1 - - [07/Nov/2019 16:23:12] \"\u001b[1m\u001b[35mGET /api/downloadFile_tflite?= HTTP/1.1\u001b[0m\" 500 -\n"
     ]
    }
   ],
   "source": [
    "if __name__ == '__main__':\n",
    "    app.run(port=3000)"
   ]
  },
  {
   "cell_type": "code",
   "execution_count": null,
   "metadata": {},
   "outputs": [],
   "source": []
  },
  {
   "cell_type": "code",
   "execution_count": null,
   "metadata": {},
   "outputs": [],
   "source": []
  }
 ],
 "metadata": {
  "kernelspec": {
   "display_name": "Python 3",
   "language": "python",
   "name": "python3"
  },
  "language_info": {
   "codemirror_mode": {
    "name": "ipython",
    "version": 3
   },
   "file_extension": ".py",
   "mimetype": "text/x-python",
   "name": "python",
   "nbconvert_exporter": "python",
   "pygments_lexer": "ipython3",
   "version": "3.6.9"
  }
 },
 "nbformat": 4,
 "nbformat_minor": 4
}
