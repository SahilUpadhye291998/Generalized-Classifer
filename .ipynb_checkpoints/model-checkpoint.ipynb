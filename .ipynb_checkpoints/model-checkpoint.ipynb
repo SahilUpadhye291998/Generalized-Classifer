{
 "cells": [
  {
   "cell_type": "code",
   "execution_count": 15,
   "metadata": {},
   "outputs": [],
   "source": [
    "import tensorflow as tf\n",
    "import numpy as np\n",
    "from tensorflow.keras.preprocessing.image import ImageDataGenerator\n",
    "from tensorflow.keras.preprocessing import image\n",
    "import matplotlib.pyplot as plt\n",
    "import matplotlib.image as mpimg"
   ]
  },
  {
   "cell_type": "code",
   "execution_count": 16,
   "metadata": {},
   "outputs": [],
   "source": [
    "class Model():\n",
    "    \n",
    "    def __init__(self, uid, projectName):\n",
    "        self.uid = uid\n",
    "        self.projectName = projectName\n",
    "        \n",
    "        print(\"---------------------------------------OK-----------------------------------------------\")\n",
    "        self.model = tf.keras.models.Sequential([\n",
    "              tf.keras.layers.Conv2D(64,(3,3),activation=tf.keras.activations.relu,input_shape=(64,64,3)),\n",
    "              tf.keras.layers.MaxPool2D(2,2),\n",
    "\n",
    "              tf.keras.layers.Conv2D(32,(3,3),activation=tf.keras.activations.relu),\n",
    "              tf.keras.layers.MaxPool2D(2,2),\n",
    "\n",
    "              tf.keras.layers.Conv2D(64,(3,3),activation=tf.keras.activations.relu),\n",
    "              tf.keras.layers.MaxPool2D(2,2),\n",
    "\n",
    "              tf.keras.layers.Flatten(),\n",
    "              tf.keras.layers.Dense(1024,activation=tf.keras.activations.relu),\n",
    "              tf.keras.layers.Dense(512,activation=tf.keras.activations.relu),\n",
    "              tf.keras.layers.Dense(512,activation=tf.keras.activations.relu),\n",
    "              tf.keras.layers.Dense(2,activation=tf.keras.activations.softmax)\n",
    "        ])\n",
    "        self.model.compile(optimizer=tf.keras.optimizers.RMSprop(),loss=tf.keras.losses.categorical_crossentropy, metrics=['accuracy'])\n",
    "        # Flow training images in batches of 128 using train_datagen generator\n",
    "        \n",
    "        train_datagen = ImageDataGenerator(rescale=1.0/255.0)        \n",
    "        validation_datagen = ImageDataGenerator(rescale=1.0/255.0)\n",
    "        \n",
    "        train_generator = train_datagen.flow_from_directory(\n",
    "            os.getcwd()+'/data/'+str(self.uid)+'/'+self.projectName+'/train/',\n",
    "            target_size=(64,64),\n",
    "            batch_size=15,\n",
    "            class_mode='categorical')\n",
    "        validation_generator = validation_datagen.flow_from_directory(\n",
    "            os.getcwd()+'/data/'+str(self.uid)+'/'+self.projectName+'/test/',\n",
    "            target_size=(64,64),\n",
    "            batch_size=3,\n",
    "            class_mode='categorical')\n",
    "        history = self.model.fit_generator(train_generator,\n",
    "                              steps_per_epoch=8,\n",
    "                              epochs=35,\n",
    "                              verbose=1,\n",
    "                              validation_data=validation_generator,\n",
    "                              validation_steps=8)\n",
    "        self.model.save('./modelFiles/'+self.uid+\"_\"+self.projectName+\".h5\") \n",
    "        \n",
    "        converter = tf.lite.TocoConverter.from_keras_model_file('./modelFiles/'+self.uid+\"_\"+self.projectName+\".h5\")\n",
    "        tflite_model = converter.convert()\n",
    "        open(\"./tfLiteModelFiles/\"+self.uid+\"_\"+self.projectName+\".tflite\",\"wb\").write(tflite_model)"
   ]
  },
  {
   "cell_type": "code",
   "execution_count": null,
   "metadata": {},
   "outputs": [],
   "source": []
  }
 ],
 "metadata": {
  "kernelspec": {
   "display_name": "Python 3",
   "language": "python",
   "name": "python3"
  },
  "language_info": {
   "codemirror_mode": {
    "name": "ipython",
    "version": 3
   },
   "file_extension": ".py",
   "mimetype": "text/x-python",
   "name": "python",
   "nbconvert_exporter": "python",
   "pygments_lexer": "ipython3",
   "version": "3.7.3"
  }
 },
 "nbformat": 4,
 "nbformat_minor": 4
}
