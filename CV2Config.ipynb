{
 "cells": [
  {
   "cell_type": "code",
   "execution_count": 14,
   "metadata": {},
   "outputs": [],
   "source": [
    "import cv2\n",
    "import numpy\n",
    "import os\n",
    "import shutil\n",
    "import random"
   ]
  },
  {
   "cell_type": "code",
   "execution_count": 24,
   "metadata": {},
   "outputs": [],
   "source": [
    "class CV2Config:\n",
    "    def __init__(self, paths, names, uid, projectName):\n",
    "        self.paths = paths\n",
    "        self.names = names\n",
    "        self.uid = uid\n",
    "        self.projectName = projectName\n",
    "        for name in self.names:\n",
    "            print(\"----------------Path-----------------\")\n",
    "            self.createPath(name)\n",
    "            print(\"----------------Comp-----------------\")\n",
    "\n",
    "        \n",
    "    def processAll(self):\n",
    "        print(\"->\"+str(len(self.paths)))\n",
    "        for index in range(len(self.paths)):\n",
    "            print(\"------CAPt-------[\"+str(index)+\"]--------\")\n",
    "            self.capture(self.paths[index], self.names[index])\n",
    "            print(\"-----------Comp----------------------\")\n",
    "    \n",
    "    def createPath(self,name):\n",
    "        if not os.path.exists(os.getcwd()+'/data/'+str(self.uid)+'/'+self.projectName+'/train/'+name):\n",
    "            os.makedirs(os.getcwd()+'/data/'+str(self.uid)+'/'+self.projectName+'/train/'+name, exist_ok=True)\n",
    "        if not os.path.exists(os.getcwd()+'/data/'+str(self.uid)+'/'+self.projectName+'/test/'+name):\n",
    "            os.makedirs(os.getcwd()+'/data/'+str(self.uid)+'/'+self.projectName+'/test/'+name, exist_ok=True)\n",
    "    \n",
    "    def capture(self,path, name):\n",
    "        cap = cv2.VideoCapture(path)\n",
    "        train_counter = 0\n",
    "        test_counter = 0\n",
    "        if (cap.isOpened()== False):\n",
    "          print(\"Error opening video stream or file\")\n",
    "\n",
    "        while(cap.isOpened()):\n",
    "          ret, frame = cap.read()\n",
    "          if ret == True:\n",
    "            frame = cv2.flip(frame, 1)\n",
    "            gray = cv2.cvtColor(frame, cv2.COLOR_BGR2GRAY)\n",
    "            cv2.imwrite('./data/'+str(self.uid)+'/'+self.projectName+'/train/'+name+'/'+str(train_counter)+'.png',gray)\n",
    "            train_counter = train_counter + 1\n",
    "            if cv2.waitKey(25) & 0xFF == ord('q'):\n",
    "              break\n",
    "          else:\n",
    "            break\n",
    "            \n",
    "    def train_test_split(self):\n",
    "        train_list_dir = os.listdir(os.getcwd()+'/data/'+str(self.uid)+'/'+self.projectName+'/train/')\n",
    "        for index in range(len(train_list_dir)):\n",
    "            images = os.listdir(os.getcwd()+'/data/'+str(self.uid)+'/'+self.projectName+'/train/'+str(train_list_dir[index]))\n",
    "            seed = round(len(images) * 0.2)\n",
    "            print(images)\n",
    "            print(seed)\n",
    "            for number in range(seed+5):\n",
    "                try:\n",
    "                    shutil.move(os.getcwd()+'/data/'+str(self.uid)+'/'+self.projectName+'/train/'+str(train_list_dir[index])+\"/\"+str(images[random.sample((range(0,len(images))),1)[0]]),os.getcwd()+'/data/'+str(self.uid)+'/'+self.projectName+'/test/'+str(train_list_dir[index])+\"/\"+str(images[random.sample((range(0,len(images))),1)[0]]))\n",
    "                except:\n",
    "                    print(\"Passing\")\n",
    "                    pass"
   ]
  },
  {
   "cell_type": "code",
   "execution_count": null,
   "metadata": {},
   "outputs": [],
   "source": []
  }
 ],
 "metadata": {
  "kernelspec": {
   "display_name": "Python 3",
   "language": "python",
   "name": "python3"
  },
  "language_info": {
   "codemirror_mode": {
    "name": "ipython",
    "version": 3
   },
   "file_extension": ".py",
   "mimetype": "text/x-python",
   "name": "python",
   "nbconvert_exporter": "python",
   "pygments_lexer": "ipython3",
   "version": "3.6.9"
  }
 },
 "nbformat": 4,
 "nbformat_minor": 4
}
